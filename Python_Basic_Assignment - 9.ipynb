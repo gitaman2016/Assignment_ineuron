{
 "cells": [
  {
   "cell_type": "raw",
   "id": "21f84922",
   "metadata": {},
   "source": [
    "1. To what does a relative path refer?\n",
    "ans:A relative path refers to a location that is relative to a current directory"
   ]
  },
  {
   "cell_type": "raw",
   "id": "f93f6bd1",
   "metadata": {},
   "source": [
    "2. What does an absolute path start with your operating system?\n",
    "ans: An absolute path starting from the root element and ending with the other subdirectories. "
   ]
  },
  {
   "cell_type": "raw",
   "id": "285bc3ab",
   "metadata": {},
   "source": [
    "3. What do the functions os.getcwd() and os.chdir() do?\n",
    "ans: os. getcwd() method tells us the location of current working directory and os.chdir() method tell us changes the current working directory to the given path."
   ]
  },
  {
   "cell_type": "raw",
   "id": "9bfdbc6d",
   "metadata": {},
   "source": [
    "4. What are the . and .. folders?\n",
    "ans: '.','..' refer current directory and parent dirctory respectively."
   ]
  },
  {
   "cell_type": "raw",
   "id": "16ef72af",
   "metadata": {},
   "source": [
    "5. In C:\\bacon\\eggs\\spam.txt, which part is the dir name, and which part is the base name?\n",
    "ans:C:\\bacon\\eggs is the dir name, while spam. txt is the base name."
   ]
  },
  {
   "cell_type": "raw",
   "id": "3c736560",
   "metadata": {},
   "source": [
    "6. What are the three “mode” arguments that can be passed to the open() function?\n",
    "ans: The three \"model\" argument that can be passed to the open() are follow:\n",
    "    1. r: Open the file in read-only mode \n",
    "    2. rb: Open the file as read in binary formate and start reading begging of yhe file\n",
    "    3. r+: Open the file for reading and writing, placing pointer at the begining of file."
   ]
  },
  {
   "cell_type": "raw",
   "id": "ff0e0cf8",
   "metadata": {},
   "source": [
    "7. What happens if an existing file is opened in write mode?\n",
    "ans:  The pointer is placed at the beginning of the file and this will overwrite any existing file with the same name."
   ]
  },
  {
   "cell_type": "raw",
   "id": "103fafda",
   "metadata": {},
   "source": [
    "8. How do you tell the difference between read() and readlines()?\n",
    "ans: read() return as it is but readlines() return the all text in one line. readlines() is much slower and much less efficient than read(). "
   ]
  },
  {
   "cell_type": "raw",
   "id": "81dbf0d6",
   "metadata": {},
   "source": [
    "9. What data structure does a shelf value resemble?\n",
    "ans: A shelf value resembles a dictionary value."
   ]
  },
  {
   "cell_type": "code",
   "execution_count": null,
   "id": "8c99f975",
   "metadata": {},
   "outputs": [],
   "source": []
  }
 ],
 "metadata": {
  "kernelspec": {
   "display_name": "Python 3",
   "language": "python",
   "name": "python3"
  },
  "language_info": {
   "codemirror_mode": {
    "name": "ipython",
    "version": 3
   },
   "file_extension": ".py",
   "mimetype": "text/x-python",
   "name": "python",
   "nbconvert_exporter": "python",
   "pygments_lexer": "ipython3",
   "version": "3.8.8"
  }
 },
 "nbformat": 4,
 "nbformat_minor": 5
}
