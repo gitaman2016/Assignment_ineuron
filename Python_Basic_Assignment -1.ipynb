{
 "cells": [
  {
   "cell_type": "raw",
   "id": "42622461",
   "metadata": {},
   "source": [
    "1. In the below elements which of them are values or an expression? eg:- values    can be integer or string and expressions will be mathematical operators.\n",
    "* -Expression\n",
    "'hello'-Expression\n",
    "-87.8 -Value\n",
    "- - Expression\n",
    "/ - Expression\n",
    "+ - Expression\t\n",
    "6 - Value\n"
   ]
  },
  {
   "cell_type": "raw",
   "id": "126c78b2",
   "metadata": {},
   "source": [
    "2. What is the difference between string and variable?\n",
    "ans:In Python,string came under singal or double inverted commas but variable       does not came under singal or double inverted commas.Variable's value           changes but string's value does not change.Variable store anything such as     number,string,etc.. string is value inside singal or double inverted           commas.Generally string can't use in calculation but vaeriable can be use       in calculation."
   ]
  },
  {
   "cell_type": "raw",
   "id": "de3addef",
   "metadata": {},
   "source": [
    "3. Describe three different data types.\n",
    "ans:There are many types of data types.\n",
    "    1. Numeric: contain Integer(1,2,3...),Float(1.23,34.21),Complex                    number(5+6j).\n",
    "    2. Dictionary: Used to store data value in key:value pair.\n",
    "    3. Boolean: Answer in form of true and false.\n",
    "    4. Sequence Type: Contain string,set,Truple\n",
    "   "
   ]
  },
  {
   "cell_type": "raw",
   "id": "5fdd652d",
   "metadata": {},
   "source": [
    "4. What is an expression made up of? What do all expressions do?\n",
    "ans:Expression is generally mathematical operator(/,+,=,-...).Expression           perform some operation between variable.\n"
   ]
  },
  {
   "cell_type": "raw",
   "id": "a474c63b",
   "metadata": {},
   "source": [
    "5. This assignment statements, like spam = 10. What is the difference between      an expression and a statement?\n",
    "ans:Statement represent an action or command.Expression is a combination of         variable,operation,and values that yield a result value."
   ]
  },
  {
   "cell_type": "raw",
   "id": "4235970d",
   "metadata": {},
   "source": [
    "6. After running the following code, what does the variable bacon contain?\n",
    "bacon = 22\n",
    "bacon + 1\n",
    "ans:23\n"
   ]
  },
  {
   "cell_type": "raw",
   "id": "476adb88",
   "metadata": {},
   "source": [
    "7. What should the values of the following two terms be?\n",
    "'spam' + 'spamspam'\n",
    "'spam' * 3\n"
   ]
  },
  {
   "cell_type": "code",
   "execution_count": 2,
   "id": "2b44f13e",
   "metadata": {},
   "outputs": [
    {
     "data": {
      "text/plain": [
       "'spamspamspam'"
      ]
     },
     "execution_count": 2,
     "metadata": {},
     "output_type": "execute_result"
    }
   ],
   "source": [
    "'spam' + 'spamspam'"
   ]
  },
  {
   "cell_type": "code",
   "execution_count": 3,
   "id": "270e64f7",
   "metadata": {},
   "outputs": [
    {
     "data": {
      "text/plain": [
       "'spamspamspam'"
      ]
     },
     "execution_count": 3,
     "metadata": {},
     "output_type": "execute_result"
    }
   ],
   "source": [
    "'spam'*3"
   ]
  },
  {
   "cell_type": "raw",
   "id": "639d68ad",
   "metadata": {},
   "source": [
    "8. Why is eggs a valid variable name while 100 is invalid?\n",
    "ans:Valid variable can't contain numeric as well as expression.when you run         numeric and expression then it gives syntex error.Here eggs is neither         numeric value nor expression but 100 is numpric value. "
   ]
  },
  {
   "cell_type": "raw",
   "id": "2902190a",
   "metadata": {},
   "source": [
    "9. What three functions can be used to get the integer, floating-point number,    or string version of a value?\n",
    "ans: To get integer,we use int(value) function\n",
    "     To get floating-point,we use float(value) function\n",
    "     To get string version,we use str(value) function"
   ]
  },
  {
   "cell_type": "raw",
   "id": "985a1270",
   "metadata": {},
   "source": [
    "10. Why does this expression cause an error? How can you fix it?\n",
    "    'I have eaten ' + 99 + ' burritos.'\n",
    "ans:This expression cause an error because we can't add string and integer.i       can fix this error by converting integer into string by using str function.   \n"
   ]
  },
  {
   "cell_type": "code",
   "execution_count": 9,
   "id": "f0a80142",
   "metadata": {},
   "outputs": [
    {
     "data": {
      "text/plain": [
       "'I have eaten99burritos.'"
      ]
     },
     "execution_count": 9,
     "metadata": {},
     "output_type": "execute_result"
    }
   ],
   "source": [
    "'I have eaten'  + str(99) +  'burritos.'"
   ]
  },
  {
   "cell_type": "code",
   "execution_count": null,
   "id": "081b49ed",
   "metadata": {},
   "outputs": [],
   "source": []
  },
  {
   "cell_type": "code",
   "execution_count": null,
   "id": "9ef2efb1",
   "metadata": {},
   "outputs": [],
   "source": []
  }
 ],
 "metadata": {
  "kernelspec": {
   "display_name": "Python 3",
   "language": "python",
   "name": "python3"
  },
  "language_info": {
   "codemirror_mode": {
    "name": "ipython",
    "version": 3
   },
   "file_extension": ".py",
   "mimetype": "text/x-python",
   "name": "python",
   "nbconvert_exporter": "python",
   "pygments_lexer": "ipython3",
   "version": "3.8.8"
  }
 },
 "nbformat": 4,
 "nbformat_minor": 5
}
