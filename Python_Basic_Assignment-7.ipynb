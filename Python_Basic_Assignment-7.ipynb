{
 "cells": [
  {
   "cell_type": "raw",
   "id": "19d84bc2",
   "metadata": {},
   "source": [
    "1. What is the name of the feature responsible for generating Regex objects?\n",
    "ans: Feature responsible for generating regex object are following:\n",
    "    1.find word in string\n",
    "    2.generate an iterator\n",
    "    3.Replace string"
   ]
  },
  {
   "cell_type": "raw",
   "id": "08dafefd",
   "metadata": {},
   "source": [
    "2. Why do raw strings often appear in Regex objects?\n",
    "ans: Raw strings are used so that backslashes do not have to be escaped."
   ]
  },
  {
   "cell_type": "raw",
   "id": "63334870",
   "metadata": {},
   "source": [
    "3. What is the return value of the search() method?\n",
    "ans: Pattern that you search in text."
   ]
  },
  {
   "cell_type": "raw",
   "id": "96625723",
   "metadata": {},
   "source": [
    "4. From a Match item, how do you get the actual strings that match the pattern?\n",
    "ans: re.findall(r'[A-Z][a-z]*',text)"
   ]
  },
  {
   "cell_type": "raw",
   "id": "2b9c9e5b",
   "metadata": {},
   "source": [
    "5. In the regex which created from the r'(\\d\\d\\d)-(\\d\\d\\d-\\d\\d\\d\\d)', what does group zero cover? Group 2? Group 1?\n",
    "ans: Group 0 is the entire match, group 1 covers the first set of parentheses, and group 2 covers the second set of parentheses."
   ]
  },
  {
   "cell_type": "raw",
   "id": "e1cf50bb",
   "metadata": {},
   "source": [
    "6. In standard expression syntax, parentheses and intervals have distinct meanings. How can you tell a regex that you want it to fit real parentheses and periods?\n",
    "ans: Periods and parentheses can be escaped with a backslash: \\., \\(, and \\)."
   ]
  },
  {
   "cell_type": "raw",
   "id": "8beea586",
   "metadata": {},
   "source": [
    "7. The findall() method returns a string list or a list of string tuples. What causes it to return one of the two options?\n",
    "ans:  If the regex has no groups, a list of strings is returned. If the regex has groups, a list of tuples of strings is returned. "
   ]
  },
  {
   "cell_type": "raw",
   "id": "d1ff9723",
   "metadata": {},
   "source": [
    "8. In standard expressions, what does the | character mean?\n",
    "ans: | character means or."
   ]
  },
  {
   "cell_type": "raw",
   "id": "5fcf6cd2",
   "metadata": {},
   "source": [
    "9. In regular expressions, what does the character stand for?\n",
    "ans: In regular expression character has a matchcharacter or a special meaning."
   ]
  },
  {
   "cell_type": "raw",
   "id": "dc7ca007",
   "metadata": {},
   "source": [
    "10.In regular expressions, what is the difference between the + and * characters?\n",
    "ans: In regular expression, + means atleast one or more {1,} but * means zero or more {0,}."
   ]
  },
  {
   "cell_type": "raw",
   "id": "311cd07d",
   "metadata": {},
   "source": [
    "11. What is the difference between {4} and {4,5} in regular expression?\n",
    "ans: In regular expression, {4} means 4 times and {4,5} means between 4 and 5 both inclusive."
   ]
  },
  {
   "cell_type": "raw",
   "id": "c1713340",
   "metadata": {},
   "source": [
    "12. What do you mean by the \\d, \\w, and \\s shorthand character classes signify in regular expressions?\n",
    "ans: In regular expression,\\d means this is the \"digit character\" class represents the regex range [0-9], and it will match the single-digit character \\w means this is the \"word character\" class that represents the regex range [A-Za-z0-9_], and it will match a single uppercase character, lower-case character, digit, or underscore ans \\s mean this is the \"whitespace character\" class that represents the regex range, matching a single space, carriage return, tab, line break, form feed, or vertical tab respectively."
   ]
  },
  {
   "cell_type": "raw",
   "id": "cc6016ce",
   "metadata": {},
   "source": [
    "13. What do means by \\D, \\W, and \\S shorthand character classes signify in regular expressions?\n",
    "ans:In regular expression,\\D, \\W, and \\S shorthand character classes signify means match a single character that is not a digit, word, or space character, respectively."
   ]
  },
  {
   "cell_type": "raw",
   "id": "8aff4754",
   "metadata": {},
   "source": [
    "14. What is the difference between .*? and (.*)?\n",
    "ans .*? means matches any character (.) any number of times (*), as few times as possible to make the regex match (?) and (.*)? means captures a group zero or one times (?)."
   ]
  },
  {
   "cell_type": "raw",
   "id": "be959db5",
   "metadata": {},
   "source": [
    "15. What is the syntax for matching both numbers and lowercase letters with a character class?\n",
    "ans: [a-z0-9]"
   ]
  },
  {
   "cell_type": "raw",
   "id": "0f3bc219",
   "metadata": {},
   "source": [
    "16. What is the procedure for making a normal expression in regax case insensitive?\n",
    "ans: There are two methord\n",
    "    1. Using CASE_INSENSITIVE flag\n",
    "    2. Using modifier"
   ]
  },
  {
   "cell_type": "raw",
   "id": "2cfd1fb8",
   "metadata": {},
   "source": [
    "17. What does the . character normally match? What does it match if re.DOTALL is passed as 2nd argument in re.compile()?\n",
    "ans: . character normally match any one character except newline and if re.DOTALL is passed as 2nd argument in re.compile() then dot also match new line."
   ]
  },
  {
   "cell_type": "raw",
   "id": "0b1dd6b3",
   "metadata": {},
   "source": [
    "18. If numReg = re.compile(r'\\d+'), what will numRegex.sub('X', '11 drummers, 10 pipers, five rings, 4 hen') return?\n",
    "ans: X drummers,X pipers,five rings,X hen"
   ]
  },
  {
   "cell_type": "raw",
   "id": "af534bc9",
   "metadata": {},
   "source": [
    "19. What does passing re.VERBOSE as the 2nd argument to re.compile() allow to do?\n",
    "ans: The re. VERBOSE argument allows you to add whitespace and comments to the string passed to re."
   ]
  },
  {
   "cell_type": "raw",
   "id": "821a55fa",
   "metadata": {},
   "source": [
    "20. How would you write a regex that match a number with comma for every three digits? It must match the given following:\n",
    "'42'\n",
    "'1,234'\n",
    "'6,368,745'\n",
    "but not the following:\n",
    "'12,34,567' (which has only two digits between the commas)\n",
    "'1234' (which lacks commas)\n",
    "ans:^\\d{1,3}(,\\d{3})*$) "
   ]
  },
  {
   "cell_type": "raw",
   "id": "d376e4b7",
   "metadata": {},
   "source": [
    "21. How would you write a regex that matches the full name of someone whose last name is Watanabe? You can assume that the first name that comes before it will always be one word that begins with a capital letter. The regex must match the following:\n",
    "'Haruto Watanabe'\n",
    "'Alice Watanabe'\n",
    "'RoboCop Watanabe'\n",
    "but not the following:\n",
    "'haruto Watanabe' (where the first name is not capitalized)\n",
    "'Mr. Watanabe' (where the preceding word has a nonletter character)\n",
    "'Watanabe' (which has no first name)\n",
    "'Haruto watanabe' (where Watanabe is not capitalized)\n",
    "ans:re.compile(r'[A-Z][a-z]*\\sWatanabe')\n"
   ]
  },
  {
   "cell_type": "raw",
   "id": "08d4e2c7",
   "metadata": {},
   "source": [
    "22. How would you write a regex that matches a sentence where the first word is either Alice, Bob, or Carol; the second word is either eats, pets, or throws; the third word is apples, cats, or baseballs; and the sentence ends with a period? This regex should be case-insensitive. It must match the following:\n",
    "'Alice eats apples.'\n",
    "'Bob pets cats.'\n",
    "'Carol throws baseballs.'\n",
    "'Alice throws Apples.'\n",
    "'BOB EATS CATS.'\n",
    "but not the following:\n",
    "'RoboCop eats apples.'\n",
    "'ALICE THROWS FOOTBALLS.'\n",
    "'Carol eats 7 cats.'\n",
    "ans: regex=re.compile(r'Alice|Bob|Carol\\seats|pets|throws\\sapples\\.|cats\\.|baseballs\\.',re.IGNORECASE)\n",
    "mo=regex.search(str)\n",
    "ma=mo.group()\n"
   ]
  },
  {
   "cell_type": "code",
   "execution_count": null,
   "id": "8ee73aa8",
   "metadata": {},
   "outputs": [],
   "source": []
  },
  {
   "cell_type": "code",
   "execution_count": null,
   "id": "e3b6fa96",
   "metadata": {},
   "outputs": [],
   "source": []
  },
  {
   "cell_type": "code",
   "execution_count": null,
   "id": "4a9a7fb9",
   "metadata": {},
   "outputs": [],
   "source": []
  }
 ],
 "metadata": {
  "kernelspec": {
   "display_name": "Python 3",
   "language": "python",
   "name": "python3"
  },
  "language_info": {
   "codemirror_mode": {
    "name": "ipython",
    "version": 3
   },
   "file_extension": ".py",
   "mimetype": "text/x-python",
   "name": "python",
   "nbconvert_exporter": "python",
   "pygments_lexer": "ipython3",
   "version": "3.8.8"
  }
 },
 "nbformat": 4,
 "nbformat_minor": 5
}
